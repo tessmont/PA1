{
 "cells": [
  {
   "cell_type": "markdown",
   "id": "da8d65d0",
   "metadata": {},
   "source": [
    "# Tess Montgomery - Markdown Practice"
   ]
  },
  {
   "cell_type": "markdown",
   "id": "1c865ac5",
   "metadata": {},
   "source": [
    "### I am a degree completer with about 34 credit hours left to graduate.  I'm interested in coding because it is something I've never done before and it's all brand new to me."
   ]
  },
  {
   "cell_type": "markdown",
   "id": "15fb7ece",
   "metadata": {},
   "source": [
    "#### Course Activities"
   ]
  },
  {
   "cell_type": "markdown",
   "id": "55a8809b",
   "metadata": {},
   "source": [
    "* Programming Assignments\n",
    "* Mid-Term Exam\n",
    "* Final Exam"
   ]
  },
  {
   "cell_type": "markdown",
   "id": "25253916",
   "metadata": {},
   "source": [
    "#### Course Outline"
   ]
  },
  {
   "cell_type": "markdown",
   "id": "c721fd06",
   "metadata": {},
   "source": [
    "1. Chapter 2 - Variables and Simple Data Types\n",
    "2. Chapter 3 - Introducing Lists\n",
    "3. Chapter 4 - Working With Lists\n",
    "4. Chapter 5 - If Statements\n",
    "5. Chapter 6 - Dictionaries\n",
    "6. Chapter 7 - User Input and While Loops\n",
    "7. Chapter 8 - Functions"
   ]
  },
  {
   "cell_type": "markdown",
   "id": "fe682468",
   "metadata": {},
   "source": [
    "**Python Language**"
   ]
  },
  {
   "cell_type": "markdown",
   "id": "c0bbcb2b",
   "metadata": {},
   "source": [
    "*Anaconda*"
   ]
  },
  {
   "cell_type": "markdown",
   "id": "1197f2ae",
   "metadata": {},
   "source": [
    "Highlight a `block of words` in a sentence."
   ]
  },
  {
   "cell_type": "markdown",
   "id": "2cc48272",
   "metadata": {},
   "source": [
    "<a href=\"https://github.com/tessmont/PA1\"> This link is for my GitHub account"
   ]
  },
  {
   "cell_type": "markdown",
   "id": "02333c5d",
   "metadata": {},
   "source": [
    "![University Logo](https://arr.bellarmine.edu/pubimgs/Bellarmine223x119.png)"
   ]
  },
  {
   "cell_type": "markdown",
   "id": "7dd07ac6",
   "metadata": {},
   "source": [
    ">In this practice I learned how to create a Markdown file in Jupyter Notebook including how to add different headers, lists (bullet and ordered), sentences (bold, italics, highlighted), how to incorporate a hyperlink, and how to render an image.  I also learned how to create a GitHub account, create a repository, upload a file, and submit an assignment in Moodle."
   ]
  },
  {
   "cell_type": "markdown",
   "id": "d2c2077d",
   "metadata": {},
   "source": [
    "> Assignment 1, Tess Montgomery, Version 1, CS150-ON, Fall 2023"
   ]
  },
  {
   "cell_type": "code",
   "execution_count": null,
   "id": "06ed79b2",
   "metadata": {},
   "outputs": [],
   "source": []
  }
 ],
 "metadata": {
  "kernelspec": {
   "display_name": "Python 3 (ipykernel)",
   "language": "python",
   "name": "python3"
  },
  "language_info": {
   "codemirror_mode": {
    "name": "ipython",
    "version": 3
   },
   "file_extension": ".py",
   "mimetype": "text/x-python",
   "name": "python",
   "nbconvert_exporter": "python",
   "pygments_lexer": "ipython3",
   "version": "3.11.5"
  }
 },
 "nbformat": 4,
 "nbformat_minor": 5
}
